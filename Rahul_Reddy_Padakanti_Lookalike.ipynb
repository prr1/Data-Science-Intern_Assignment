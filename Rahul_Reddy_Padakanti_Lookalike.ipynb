{
  "nbformat": 4,
  "nbformat_minor": 0,
  "metadata": {
    "colab": {
      "provenance": []
    },
    "kernelspec": {
      "name": "python3",
      "display_name": "Python 3"
    },
    "language_info": {
      "name": "python"
    }
  },
  "cells": [
    {
      "cell_type": "code",
      "execution_count": 1,
      "metadata": {
        "id": "XdqcjbKGzmtn"
      },
      "outputs": [],
      "source": [
        "from sklearn.preprocessing import StandardScaler\n",
        "from sklearn.metrics.pairwise import cosine_similarity\n",
        "import pandas as pd\n",
        "\n",
        "merged_data = pd.read_csv('Processed_Data.csv')\n",
        "customer_features = merged_data.groupby('CustomerID').agg(\n",
        "    TotalSpending=('TotalValue', 'sum'),\n",
        "    AvgTransactionValue=('TotalValue', 'mean'),\n",
        "    TransactionFrequency=('TransactionID', 'count')\n",
        ").reset_index()\n",
        "\n",
        "scaler = StandardScaler()\n",
        "scaled_features = scaler.fit_transform(customer_features.iloc[:, 1:])\n",
        "similarity_matrix = cosine_similarity(scaled_features)\n",
        "\n",
        "lookalike_map = {}\n",
        "for i, customer in enumerate(customer_features['CustomerID']):\n",
        "    similarities = list(enumerate(similarity_matrix[i]))\n",
        "    similarities = sorted(similarities, key=lambda x: -x[1])  # Sort by similarity score\n",
        "    top_3 = [(customer_features.iloc[j]['CustomerID'], score) for j, score in similarities[1:4]]\n",
        "    lookalike_map[customer] = top_3\n",
        "\n",
        "lookalike_df = pd.DataFrame([\n",
        "    {'CustomerID': cust_id, 'Lookalikes': lookalikes}\n",
        "    for cust_id, lookalikes in lookalike_map.items()\n",
        "])\n",
        "lookalike_df.to_csv('Lookalike.csv', index=False)\n"
      ]
    }
  ]
}